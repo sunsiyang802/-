{
 "cells": [
  {
   "cell_type": "code",
   "execution_count": 9,
   "metadata": {},
   "outputs": [
    {
     "name": "stdout",
     "output_type": "stream",
     "text": [
      "Populating the interactive namespace from numpy and matplotlib\n"
     ]
    }
   ],
   "source": [
    "import librosa\n",
    "import numpy as np\n",
    "import pandas as pd\n",
    "import librosa.display\n",
    "%pylab inline"
   ]
  },
  {
   "cell_type": "code",
   "execution_count": 2,
   "metadata": {},
   "outputs": [],
   "source": [
    "filetemp = pd.read_csv('Atraining_normal_seg.csv')"
   ]
  },
  {
   "cell_type": "code",
   "execution_count": 3,
   "metadata": {},
   "outputs": [
    {
     "data": {
      "text/html": [
       "<div>\n",
       "<style scoped>\n",
       "    .dataframe tbody tr th:only-of-type {\n",
       "        vertical-align: middle;\n",
       "    }\n",
       "\n",
       "    .dataframe tbody tr th {\n",
       "        vertical-align: top;\n",
       "    }\n",
       "\n",
       "    .dataframe thead th {\n",
       "        text-align: right;\n",
       "    }\n",
       "</style>\n",
       "<table border=\"1\" class=\"dataframe\">\n",
       "  <thead>\n",
       "    <tr style=\"text-align: right;\">\n",
       "      <th></th>\n",
       "      <th>Unnamed: 0</th>\n",
       "      <th>S1</th>\n",
       "      <th>S2</th>\n",
       "      <th>S1.1</th>\n",
       "      <th>S2.1</th>\n",
       "      <th>S1.2</th>\n",
       "      <th>S2.2</th>\n",
       "      <th>S1.3</th>\n",
       "      <th>S2.3</th>\n",
       "      <th>S1.4</th>\n",
       "      <th>...</th>\n",
       "      <th>S2.14</th>\n",
       "      <th>S1.15</th>\n",
       "      <th>S2.15</th>\n",
       "      <th>S1.16</th>\n",
       "      <th>S2.16</th>\n",
       "      <th>S1.17</th>\n",
       "      <th>S2.17</th>\n",
       "      <th>S1.18</th>\n",
       "      <th>S2.18</th>\n",
       "      <th>Unnamed: 39</th>\n",
       "    </tr>\n",
       "  </thead>\n",
       "  <tbody>\n",
       "    <tr>\n",
       "      <th>0</th>\n",
       "      <td>201102081321.aif</td>\n",
       "      <td>10021.0</td>\n",
       "      <td>20759</td>\n",
       "      <td>35075</td>\n",
       "      <td>47244</td>\n",
       "      <td>62992</td>\n",
       "      <td>73729</td>\n",
       "      <td>88761</td>\n",
       "      <td>101646</td>\n",
       "      <td>115246</td>\n",
       "      <td>...</td>\n",
       "      <td>NaN</td>\n",
       "      <td>NaN</td>\n",
       "      <td>NaN</td>\n",
       "      <td>NaN</td>\n",
       "      <td>NaN</td>\n",
       "      <td>NaN</td>\n",
       "      <td>NaN</td>\n",
       "      <td>NaN</td>\n",
       "      <td>NaN</td>\n",
       "      <td>NaN</td>\n",
       "    </tr>\n",
       "    <tr>\n",
       "      <th>1</th>\n",
       "      <td>201102260502.aif</td>\n",
       "      <td>NaN</td>\n",
       "      <td>11526</td>\n",
       "      <td>27941</td>\n",
       "      <td>42197</td>\n",
       "      <td>58163</td>\n",
       "      <td>71278</td>\n",
       "      <td>88955</td>\n",
       "      <td>102641</td>\n",
       "      <td>122028</td>\n",
       "      <td>...</td>\n",
       "      <td>NaN</td>\n",
       "      <td>NaN</td>\n",
       "      <td>NaN</td>\n",
       "      <td>NaN</td>\n",
       "      <td>NaN</td>\n",
       "      <td>NaN</td>\n",
       "      <td>NaN</td>\n",
       "      <td>NaN</td>\n",
       "      <td>NaN</td>\n",
       "      <td>NaN</td>\n",
       "    </tr>\n",
       "    <tr>\n",
       "      <th>2</th>\n",
       "      <td>201103090635.aif</td>\n",
       "      <td>5366.0</td>\n",
       "      <td>17632</td>\n",
       "      <td>31432</td>\n",
       "      <td>44464</td>\n",
       "      <td>59030</td>\n",
       "      <td>71296</td>\n",
       "      <td>86629</td>\n",
       "      <td>99661</td>\n",
       "      <td>116527</td>\n",
       "      <td>...</td>\n",
       "      <td>NaN</td>\n",
       "      <td>NaN</td>\n",
       "      <td>NaN</td>\n",
       "      <td>NaN</td>\n",
       "      <td>NaN</td>\n",
       "      <td>NaN</td>\n",
       "      <td>NaN</td>\n",
       "      <td>NaN</td>\n",
       "      <td>NaN</td>\n",
       "      <td>NaN</td>\n",
       "    </tr>\n",
       "    <tr>\n",
       "      <th>3</th>\n",
       "      <td>201103140132.aif</td>\n",
       "      <td>16358.0</td>\n",
       "      <td>29272</td>\n",
       "      <td>89539</td>\n",
       "      <td>105036</td>\n",
       "      <td>128282</td>\n",
       "      <td>142057</td>\n",
       "      <td>170469</td>\n",
       "      <td>183383</td>\n",
       "      <td>207490</td>\n",
       "      <td>...</td>\n",
       "      <td>NaN</td>\n",
       "      <td>NaN</td>\n",
       "      <td>NaN</td>\n",
       "      <td>NaN</td>\n",
       "      <td>NaN</td>\n",
       "      <td>NaN</td>\n",
       "      <td>NaN</td>\n",
       "      <td>NaN</td>\n",
       "      <td>NaN</td>\n",
       "      <td>NaN</td>\n",
       "    </tr>\n",
       "    <tr>\n",
       "      <th>4</th>\n",
       "      <td>201103140822.aif</td>\n",
       "      <td>3444.0</td>\n",
       "      <td>18080</td>\n",
       "      <td>44770</td>\n",
       "      <td>58545</td>\n",
       "      <td>84374</td>\n",
       "      <td>98149</td>\n",
       "      <td>123977</td>\n",
       "      <td>134309</td>\n",
       "      <td>157555</td>\n",
       "      <td>...</td>\n",
       "      <td>NaN</td>\n",
       "      <td>NaN</td>\n",
       "      <td>NaN</td>\n",
       "      <td>NaN</td>\n",
       "      <td>NaN</td>\n",
       "      <td>NaN</td>\n",
       "      <td>NaN</td>\n",
       "      <td>NaN</td>\n",
       "      <td>NaN</td>\n",
       "      <td>NaN</td>\n",
       "    </tr>\n",
       "  </tbody>\n",
       "</table>\n",
       "<p>5 rows × 40 columns</p>\n",
       "</div>"
      ],
      "text/plain": [
       "         Unnamed: 0       S1     S2   S1.1    S2.1    S1.2    S2.2    S1.3  \\\n",
       "0  201102081321.aif  10021.0  20759  35075   47244   62992   73729   88761   \n",
       "1  201102260502.aif      NaN  11526  27941   42197   58163   71278   88955   \n",
       "2  201103090635.aif   5366.0  17632  31432   44464   59030   71296   86629   \n",
       "3  201103140132.aif  16358.0  29272  89539  105036  128282  142057  170469   \n",
       "4  201103140822.aif   3444.0  18080  44770   58545   84374   98149  123977   \n",
       "\n",
       "     S2.3    S1.4  ...  S2.14  S1.15  S2.15  S1.16  S2.16  S1.17  S2.17  \\\n",
       "0  101646  115246  ...    NaN    NaN    NaN    NaN    NaN    NaN    NaN   \n",
       "1  102641  122028  ...    NaN    NaN    NaN    NaN    NaN    NaN    NaN   \n",
       "2   99661  116527  ...    NaN    NaN    NaN    NaN    NaN    NaN    NaN   \n",
       "3  183383  207490  ...    NaN    NaN    NaN    NaN    NaN    NaN    NaN   \n",
       "4  134309  157555  ...    NaN    NaN    NaN    NaN    NaN    NaN    NaN   \n",
       "\n",
       "   S1.18  S2.18  Unnamed: 39  \n",
       "0    NaN    NaN          NaN  \n",
       "1    NaN    NaN          NaN  \n",
       "2    NaN    NaN          NaN  \n",
       "3    NaN    NaN          NaN  \n",
       "4    NaN    NaN          NaN  \n",
       "\n",
       "[5 rows x 40 columns]"
      ]
     },
     "execution_count": 3,
     "metadata": {},
     "output_type": "execute_result"
    }
   ],
   "source": [
    "filetemp.head()"
   ]
  },
  {
   "cell_type": "code",
   "execution_count": 4,
   "metadata": {},
   "outputs": [],
   "source": [
    "data , sampling_rate = librosa.load('E:\\\\心声项目\\\\Atraining_normal\\\\201101070538.wav')"
   ]
  },
  {
   "cell_type": "code",
   "execution_count": 11,
   "metadata": {},
   "outputs": [
    {
     "data": {
      "text/plain": [
       "<matplotlib.collections.PolyCollection at 0x1c37a4e4d88>"
      ]
     },
     "execution_count": 11,
     "metadata": {},
     "output_type": "execute_result"
    },
    {
     "data": {
      "image/png": "[encoded data removed]",
      "text/plain": [
       "<Figure size 432x288 with 1 Axes>"
      ]
     },
     "metadata": {
      "needs_background": "light"
     },
     "output_type": "display_data"
    }
   ],
   "source": [
    "librosa.display.waveplot(data, sr = sampling_rate)"
   ]
  },
  {
   "cell_type": "code",
   "execution_count": 13,
   "metadata": {},
   "outputs": [
    {
     "data": {
      "text/plain": [
       "(21, 40)"
      ]
     },
     "execution_count": 13,
     "metadata": {},
     "output_type": "execute_result"
    }
   ],
   "source": [
    "filetemp.shape"
   ]
  },
  {
   "cell_type": "code",
   "execution_count": 14,
   "metadata": {},
   "outputs": [],
   "source": [
    "data_x = []\n",
    "data_y = []\n",
    "for j in range (filetemp.shape[0]):\n",
    "    for i in range(1,filetemp.shape[1]-1):\n",
    "        try:\n",
    "            data, sampling_rate = librosa.load('Atraining_normal/'+ filetemp.iloc[j, 0].split('.')[0] +'.wav', sr=44100 )\n",
    "            temp_data = data[int(filetemp.iloc[j, i]):int(filetemp.iloc[j, i+1])]\n",
    "            temp_label = filetemp.iloc[:, i].name.split('.')[0]\n",
    "            \n",
    "            data_x.append(temp_data)\n",
    "            data_y.append(temp_label)\n",
    "        except:\n",
    "            pass"
   ]
  },
  {
   "cell_type": "code",
   "execution_count": 15,
   "metadata": {},
   "outputs": [
    {
     "name": "stderr",
     "output_type": "stream",
     "text": [
      "Using TensorFlow backend.\n"
     ]
    }
   ],
   "source": [
    "from keras.preprocessing.sequence import pad_sequences\n",
    "data_x = pad_sequences(data_x, maxlen=20000, dtype='float', padding='post', truncating='post', value=0.)\n",
    "data_x = data_x / np.max(data_x)\n",
    "\n",
    "data_x = data_x[:,:,np.newaxis]\n",
    "data_y = pd.Series(data_y)\n",
    "data_y.value_counts()\n",
    "\n",
    "data_y = data_y.map({'S1':0, 'S2':1}).values"
   ]
  },
  {
   "cell_type": "code",
   "execution_count": 25,
   "metadata": {},
   "outputs": [],
   "source": [
    "from keras.layers import InputLayer , Conv1D , Dense , Flatten , MaxPool1D\n",
    "from keras.models import Sequential\n",
    "\n",
    "model = Sequential()\n",
    "model.add(InputLayer(input_shape = data_x.shape[1:]))\n",
    "model.add(Conv1D(filters = 50 ,kernel_size = 10 , activation = 'relu'))\n",
    "model.add(MaxPool1D(strides = 8))\n",
    "model.add(Conv1D(filters = 50 ,kernel_size = 10 , activation = 'relu'))\n",
    "model.add(MaxPool1D(strides = 8))\n",
    "model.add(Flatten())\n",
    "model.add(Dense(units=1 ,activation='softmax'))\n",
    "\n",
    "model.compile(optimizer = 'adam' ,loss = 'binary_crossentropy' , metrics=['accuracy'])"
   ]
  },
  {
   "cell_type": "code",
   "execution_count": 29,
   "metadata": {},
   "outputs": [
    {
     "name": "stdout",
     "output_type": "stream",
     "text": [
      "Model: \"sequential_3\"\n",
      "_________________________________________________________________\n",
      "Layer (type)                 Output Shape              Param #   \n",
      "=================================================================\n",
      "conv1d_5 (Conv1D)            (None, 19991, 50)         550       \n",
      "_________________________________________________________________\n",
      "max_pooling1d_5 (MaxPooling1 (None, 2499, 50)          0         \n",
      "_________________________________________________________________\n",
      "conv1d_6 (Conv1D)            (None, 2490, 50)          25050     \n",
      "_________________________________________________________________\n",
      "max_pooling1d_6 (MaxPooling1 (None, 312, 50)           0         \n",
      "_________________________________________________________________\n",
      "flatten_3 (Flatten)          (None, 15600)             0         \n",
      "_________________________________________________________________\n",
      "dense_3 (Dense)              (None, 1)                 15601     \n",
      "=================================================================\n",
      "Total params: 41,201\n",
      "Trainable params: 41,201\n",
      "Non-trainable params: 0\n",
      "_________________________________________________________________\n"
     ]
    }
   ],
   "source": [
    "model.summary()"
   ]
  },
  {
   "cell_type": "code",
   "execution_count": 27,
   "metadata": {},
   "outputs": [
    {
     "name": "stdout",
     "output_type": "stream",
     "text": [
      "Epoch 1/5\n",
      "369/369 [==============================] - ETA: 4s - loss: 7.1875 - accuracy: 0.53 - ETA: 4s - loss: 6.7083 - accuracy: 0.56 - ETA: 3s - loss: 7.6666 - accuracy: 0.50 - ETA: 3s - loss: 7.5468 - accuracy: 0.50 - ETA: 2s - loss: 7.6666 - accuracy: 0.50 - ETA: 2s - loss: 7.9861 - accuracy: 0.47 - ETA: 2s - loss: 8.0089 - accuracy: 0.47 - ETA: 1s - loss: 7.9661 - accuracy: 0.48 - ETA: 1s - loss: 7.8796 - accuracy: 0.48 - ETA: 0s - loss: 8.0500 - accuracy: 0.47 - ETA: 0s - loss: 8.0151 - accuracy: 0.47 - 6s 15ms/step - loss: 8.0198 - accuracy: 0.4770\n",
      "Epoch 2/5\n",
      "369/369 [==============================] - ETA: 5s - loss: 9.5833 - accuracy: 0.37 - ETA: 4s - loss: 9.5833 - accuracy: 0.37 - ETA: 4s - loss: 8.6249 - accuracy: 0.43 - ETA: 3s - loss: 8.1458 - accuracy: 0.46 - ETA: 3s - loss: 7.3791 - accuracy: 0.51 - ETA: 2s - loss: 7.2673 - accuracy: 0.52 - ETA: 2s - loss: 7.5982 - accuracy: 0.50 - ETA: 1s - loss: 7.9062 - accuracy: 0.48 - ETA: 1s - loss: 8.1458 - accuracy: 0.46 - ETA: 0s - loss: 8.0979 - accuracy: 0.47 - ETA: 0s - loss: 7.9280 - accuracy: 0.48 - 6s 15ms/step - loss: 8.0198 - accuracy: 0.4770\n",
      "Epoch 3/5\n",
      "369/369 [==============================] - ETA: 4s - loss: 10.0624 - accuracy: 0.343 - ETA: 4s - loss: 9.1041 - accuracy: 0.406 - ETA: 3s - loss: 8.6249 - accuracy: 0.43 - ETA: 3s - loss: 8.5052 - accuracy: 0.44 - ETA: 3s - loss: 8.1458 - accuracy: 0.46 - ETA: 2s - loss: 7.8263 - accuracy: 0.48 - ETA: 2s - loss: 7.8720 - accuracy: 0.48 - ETA: 1s - loss: 7.7265 - accuracy: 0.49 - ETA: 1s - loss: 7.8796 - accuracy: 0.48 - ETA: 0s - loss: 7.8583 - accuracy: 0.48 - ETA: 0s - loss: 7.9280 - accuracy: 0.48 - 5s 15ms/step - loss: 8.0198 - accuracy: 0.4770\n",
      "Epoch 4/5\n",
      "369/369 [==============================] - ETA: 5s - loss: 7.1875 - accuracy: 0.53 - ETA: 4s - loss: 7.1875 - accuracy: 0.53 - ETA: 4s - loss: 7.0277 - accuracy: 0.54 - ETA: 3s - loss: 7.3072 - accuracy: 0.52 - ETA: 3s - loss: 7.3791 - accuracy: 0.51 - ETA: 2s - loss: 7.2673 - accuracy: 0.52 - ETA: 2s - loss: 7.3928 - accuracy: 0.51 - ETA: 1s - loss: 7.6067 - accuracy: 0.50 - ETA: 1s - loss: 7.6666 - accuracy: 0.50 - ETA: 0s - loss: 7.6666 - accuracy: 0.50 - ETA: 0s - loss: 7.9715 - accuracy: 0.48 - 6s 15ms/step - loss: 8.0198 - accuracy: 0.4770\n",
      "Epoch 5/5\n",
      "369/369 [==============================] - ETA: 5s - loss: 8.1458 - accuracy: 0.46 - ETA: 4s - loss: 8.6249 - accuracy: 0.43 - ETA: 4s - loss: 8.1458 - accuracy: 0.46 - ETA: 3s - loss: 7.9062 - accuracy: 0.48 - ETA: 3s - loss: 7.5708 - accuracy: 0.50 - ETA: 2s - loss: 7.7465 - accuracy: 0.49 - ETA: 2s - loss: 7.8035 - accuracy: 0.49 - ETA: 1s - loss: 7.7265 - accuracy: 0.49 - ETA: 1s - loss: 7.7731 - accuracy: 0.49 - ETA: 0s - loss: 7.7625 - accuracy: 0.49 - ETA: 0s - loss: 7.9280 - accuracy: 0.48 - 6s 15ms/step - loss: 8.0198 - accuracy: 0.4770\n"
     ]
    },
    {
     "data": {
      "text/plain": [
       "<keras.callbacks.callbacks.History at 0x1c309054f88>"
      ]
     },
     "execution_count": 27,
     "metadata": {},
     "output_type": "execute_result"
    }
   ],
   "source": [
    "model.fit(data_x , data_y , batch_size=32 , epochs=5)"
   ]
  },
  {
   "cell_type": "code",
   "execution_count": null,
   "metadata": {},
   "outputs": [],
   "source": []
  }
 ],
 "metadata": {
  "kernelspec": {
   "display_name": "Python 3",
   "language": "python",
   "name": "python3"
  },
  "language_info": {
   "codemirror_mode": {
    "name": "ipython",
    "version": 3
   },
   "file_extension": ".py",
   "mimetype": "text/x-python",
   "name": "python",
   "nbconvert_exporter": "python",
   "pygments_lexer": "ipython3",
   "version": "3.7.5"
  }
 },
 "nbformat": 4,
 "nbformat_minor": 2
}
